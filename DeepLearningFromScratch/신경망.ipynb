{
  "nbformat": 4,
  "nbformat_minor": 0,
  "metadata": {
    "colab": {
      "provenance": [],
      "authorship_tag": "ABX9TyOaAjSfmMILmsbXMqD6F8zH",
      "include_colab_link": true
    },
    "kernelspec": {
      "name": "python3",
      "display_name": "Python 3"
    },
    "language_info": {
      "name": "python"
    }
  },
  "cells": [
    {
      "cell_type": "markdown",
      "metadata": {
        "id": "view-in-github",
        "colab_type": "text"
      },
      "source": [
        "<a href=\"https://colab.research.google.com/github/2yLee/DeepLearning-study/blob/main/DeepLearningFromScratch/%EC%8B%A0%EA%B2%BD%EB%A7%9D.ipynb\" target=\"_parent\"><img src=\"https://colab.research.google.com/assets/colab-badge.svg\" alt=\"Open In Colab\"/></a>"
      ]
    },
    {
      "cell_type": "markdown",
      "source": [
        "#활성화 함수"
      ],
      "metadata": {
        "id": "NRgkNoUhhrdT"
      }
    },
    {
      "cell_type": "code",
      "source": [
        "import numpy as np\n",
        "import matplotlib.pyplot as plt"
      ],
      "metadata": {
        "id": "m8ppvOzUiCa3"
      },
      "execution_count": 1,
      "outputs": []
    },
    {
      "cell_type": "markdown",
      "source": [
        "계단함수"
      ],
      "metadata": {
        "id": "XGh1uJ2LhzJL"
      }
    },
    {
      "cell_type": "code",
      "execution_count": 2,
      "metadata": {
        "colab": {
          "base_uri": "https://localhost:8080/"
        },
        "id": "31gVW-S1fRTw",
        "outputId": "c5505abb-75f5-4374-8150-7f7a8c7fc21a"
      },
      "outputs": [
        {
          "output_type": "stream",
          "name": "stdout",
          "text": [
            "1\n",
            "0\n",
            "0\n",
            "1\n"
          ]
        }
      ],
      "source": [
        "def step_function(x):\n",
        "  if x>0 : return 1\n",
        "  else : return 0\n",
        "\n",
        "print(step_function(1))\n",
        "print(step_function(0))\n",
        "print(step_function(-1))\n",
        "print(step_function(3.0))"
      ]
    },
    {
      "cell_type": "code",
      "source": [
        "def step_function(x):\n",
        "  y = x > 0\n",
        "  return y.astype(np.int)\n",
        "\n",
        "x = np.array([-1.0, 1.0, 2.0])\n",
        "step_function(x)"
      ],
      "metadata": {
        "colab": {
          "base_uri": "https://localhost:8080/"
        },
        "id": "Swyqzl-QiE4F",
        "outputId": "686b6ab3-8e63-4780-96b9-5e4d09bd2d39"
      },
      "execution_count": 3,
      "outputs": [
        {
          "output_type": "stream",
          "name": "stderr",
          "text": [
            "<ipython-input-3-f67b93ede98e>:3: DeprecationWarning: `np.int` is a deprecated alias for the builtin `int`. To silence this warning, use `int` by itself. Doing this will not modify any behavior and is safe. When replacing `np.int`, you may wish to use e.g. `np.int64` or `np.int32` to specify the precision. If you wish to review your current use, check the release note link for additional information.\n",
            "Deprecated in NumPy 1.20; for more details and guidance: https://numpy.org/devdocs/release/1.20.0-notes.html#deprecations\n",
            "  return y.astype(np.int)\n"
          ]
        },
        {
          "output_type": "execute_result",
          "data": {
            "text/plain": [
              "array([0, 1, 1])"
            ]
          },
          "metadata": {},
          "execution_count": 3
        }
      ]
    },
    {
      "cell_type": "markdown",
      "source": [
        "계단 함수의 그래프"
      ],
      "metadata": {
        "id": "QLZiMAURizZq"
      }
    },
    {
      "cell_type": "code",
      "source": [
        "x = np.arange(-5.0, 5.0, 0.1)\n",
        "y = step_function(x)\n",
        "plt.plot(x, y)\n",
        "plt.ylim = (-0.1, 1.1)\n",
        "plt.show"
      ],
      "metadata": {
        "colab": {
          "base_uri": "https://localhost:8080/",
          "height": 523
        },
        "id": "xUxkFafti1AE",
        "outputId": "c2499923-036b-4545-c7fa-38ee125513c2"
      },
      "execution_count": 4,
      "outputs": [
        {
          "output_type": "stream",
          "name": "stderr",
          "text": [
            "<ipython-input-3-f67b93ede98e>:3: DeprecationWarning: `np.int` is a deprecated alias for the builtin `int`. To silence this warning, use `int` by itself. Doing this will not modify any behavior and is safe. When replacing `np.int`, you may wish to use e.g. `np.int64` or `np.int32` to specify the precision. If you wish to review your current use, check the release note link for additional information.\n",
            "Deprecated in NumPy 1.20; for more details and guidance: https://numpy.org/devdocs/release/1.20.0-notes.html#deprecations\n",
            "  return y.astype(np.int)\n"
          ]
        },
        {
          "output_type": "execute_result",
          "data": {
            "text/plain": [
              "<function matplotlib.pyplot.show(close=None, block=None)>"
            ]
          },
          "metadata": {},
          "execution_count": 4
        },
        {
          "output_type": "display_data",
          "data": {
            "text/plain": [
              "<Figure size 640x480 with 1 Axes>"
            ],
            "image/png": "[encoded data removed]"
          },
          "metadata": {}
        }
      ]
    },
    {
      "cell_type": "markdown",
      "source": [
        "시그모이드 함수 구현"
      ],
      "metadata": {
        "id": "dVSRu9DQjoOs"
      }
    },
    {
      "cell_type": "code",
      "source": [
        "def sigmoid(x):\n",
        "  return 1 / (1+np.exp(-x))\n",
        "\n",
        "x = np.array([-1.0, 1.0, 2.0])\n",
        "sigmoid(x)"
      ],
      "metadata": {
        "colab": {
          "base_uri": "https://localhost:8080/"
        },
        "id": "Xg9sM8j1jlWS",
        "outputId": "de4b1913-91ee-4df0-dfb5-bd20368df53a"
      },
      "execution_count": 5,
      "outputs": [
        {
          "output_type": "execute_result",
          "data": {
            "text/plain": [
              "array([0.26894142, 0.73105858, 0.88079708])"
            ]
          },
          "metadata": {},
          "execution_count": 5
        }
      ]
    },
    {
      "cell_type": "code",
      "source": [
        "x = np.arange(-5.0, 5.0, 0.1)\n",
        "y = sigmoid(x)\n",
        "plt.plot(x, y)\n",
        "plt.ylim = (-0.1, 1.1)\n",
        "plt.show"
      ],
      "metadata": {
        "colab": {
          "base_uri": "https://localhost:8080/",
          "height": 448
        },
        "id": "PVjfPvIWj3z_",
        "outputId": "d66ce4d5-e318-4a34-f11f-a92d2f4d2a13"
      },
      "execution_count": 6,
      "outputs": [
        {
          "output_type": "execute_result",
          "data": {
            "text/plain": [
              "<function matplotlib.pyplot.show(close=None, block=None)>"
            ]
          },
          "metadata": {},
          "execution_count": 6
        },
        {
          "output_type": "display_data",
          "data": {
            "text/plain": [
              "<Figure size 640x480 with 1 Axes>"
            ],
            "image/png": "[encoded data removed]"
          },
          "metadata": {}
        }
      ]
    },
    {
      "cell_type": "markdown",
      "source": [
        "ReLU 함수"
      ],
      "metadata": {
        "id": "1dB9J0NCk5io"
      }
    },
    {
      "cell_type": "code",
      "source": [
        "def ReLU(x):\n",
        "  return np.maximum(0, x)\n",
        "\n",
        "x = np.array([-1.0, 1.0, 2.0])\n",
        "ReLU(x)"
      ],
      "metadata": {
        "colab": {
          "base_uri": "https://localhost:8080/"
        },
        "id": "fPgM7oKek7AE",
        "outputId": "b6336ca2-4ac4-496d-f0ea-b610a252f800"
      },
      "execution_count": 7,
      "outputs": [
        {
          "output_type": "execute_result",
          "data": {
            "text/plain": [
              "array([0., 1., 2.])"
            ]
          },
          "metadata": {},
          "execution_count": 7
        }
      ]
    },
    {
      "cell_type": "markdown",
      "source": [
        "행렬의 곱"
      ],
      "metadata": {
        "id": "1NZV2DUbmH0J"
      }
    },
    {
      "cell_type": "code",
      "source": [
        "A = np.array([[1, 2], [3, 4]])\n",
        "B = np.array([[5, 6], [7, 8]])\n",
        "print(A.shape)\n",
        "print(B.shape)\n",
        "print(np.dot(A, B))"
      ],
      "metadata": {
        "colab": {
          "base_uri": "https://localhost:8080/"
        },
        "id": "rWdzm7YHkQW8",
        "outputId": "7e64f0f4-80a9-4152-9536-261f41707a51"
      },
      "execution_count": 8,
      "outputs": [
        {
          "output_type": "stream",
          "name": "stdout",
          "text": [
            "(2, 2)\n",
            "(2, 2)\n",
            "[[19 22]\n",
            " [43 50]]\n"
          ]
        }
      ]
    },
    {
      "cell_type": "markdown",
      "source": [
        "신경망 구현"
      ],
      "metadata": {
        "id": "TaygZ4dusjJV"
      }
    },
    {
      "cell_type": "code",
      "source": [
        "X = np.array([1.0, 5.0]) # 입력값\n",
        "W1 = np.array([[0.1, 0.3, 0.5], [0.2, 0.4, 0.6]]) #가중치\n",
        "B1 = np.array([0.1, 0.2, 0.3]) #편향\n",
        "\n",
        "print(W1.shape)\n",
        "print(X.shape)\n",
        "print(B1.shape)\n",
        "\n",
        "A1 = np.dot(X, W1) + B1 #다음 층의 뉴련으로 전달\n",
        "print(A1)"
      ],
      "metadata": {
        "colab": {
          "base_uri": "https://localhost:8080/"
        },
        "id": "5A56p0MfpUGL",
        "outputId": "5503a1e0-ed7e-447d-9b05-31269f09180d"
      },
      "execution_count": 9,
      "outputs": [
        {
          "output_type": "stream",
          "name": "stdout",
          "text": [
            "(2, 3)\n",
            "(2,)\n",
            "(3,)\n",
            "[1.2 2.5 3.8]\n"
          ]
        }
      ]
    },
    {
      "cell_type": "markdown",
      "source": [
        "활성화 함수 적용"
      ],
      "metadata": {
        "id": "Rv68XXa8soNQ"
      }
    },
    {
      "cell_type": "code",
      "source": [
        "Z1 = sigmoid(A1)\n",
        "\n",
        "print(A1)\n",
        "print(Z1)"
      ],
      "metadata": {
        "colab": {
          "base_uri": "https://localhost:8080/"
        },
        "id": "A9V_Ub8Oss5x",
        "outputId": "5028fc01-bdba-4558-c5bd-0b23f663e2a0"
      },
      "execution_count": 10,
      "outputs": [
        {
          "output_type": "stream",
          "name": "stdout",
          "text": [
            "[1.2 2.5 3.8]\n",
            "[0.76852478 0.92414182 0.97811873]\n"
          ]
        }
      ]
    },
    {
      "cell_type": "code",
      "source": [
        "W2 = np.array([[0.1, 0.4], [0.2, 0.5], [0.3, 0.6]])\n",
        "B2 = np.array([0.1, 0.2])\n",
        "\n",
        "print(Z1.shape)\n",
        "print(W2.shape)\n",
        "print(B2.shape)\n",
        "\n",
        "A2 = np.dot(Z1, W2) + B2\n",
        "Z2 = sigmoid(A2)\n",
        "print(A2)\n",
        "print(Z2)"
      ],
      "metadata": {
        "colab": {
          "base_uri": "https://localhost:8080/"
        },
        "id": "gY8zNgi9skx9",
        "outputId": "e290dd68-0b96-4483-edbb-945a85bcaa82"
      },
      "execution_count": 11,
      "outputs": [
        {
          "output_type": "stream",
          "name": "stdout",
          "text": [
            "(3,)\n",
            "(3, 2)\n",
            "(2,)\n",
            "[0.65511646 1.55635206]\n",
            "[0.65816252 0.82582927]\n"
          ]
        }
      ]
    },
    {
      "cell_type": "code",
      "source": [
        "W3 = np.array([[0.1, 0.3], [0.2, 0.4]])\n",
        "B3 = np.array([0.1, 0.2])\n",
        "\n",
        "A3 = np.dot(Z2, W3) + B3\n",
        "y = A3  # 출력층\n",
        "print(A3)\n",
        "print(y)"
      ],
      "metadata": {
        "colab": {
          "base_uri": "https://localhost:8080/"
        },
        "id": "UakSKrQQtXTp",
        "outputId": "1419cc9e-d8fb-45c1-e6df-978b08bb90b4"
      },
      "execution_count": 12,
      "outputs": [
        {
          "output_type": "stream",
          "name": "stdout",
          "text": [
            "[0.33098211 0.72778046]\n",
            "[0.33098211 0.72778046]\n"
          ]
        }
      ]
    },
    {
      "cell_type": "markdown",
      "source": [
        "3층 신경망"
      ],
      "metadata": {
        "id": "L3uPur97u3p2"
      }
    },
    {
      "cell_type": "code",
      "source": [
        "def init_network():\n",
        "  network = {}\n",
        "  network['W1'] = np.array([[0.1, 0.3, 0.5], [0.2, 0.4, 0.6]])\n",
        "  network['b1'] = np.array([0.1, 0.2, 0.3])\n",
        "  network['W2'] = np.array([[0.1, 0.4], [0.2, 0.5], [0.3, 0.6]])\n",
        "  network['b2'] = np.array([0.1, 0.2])\n",
        "  network['W3'] = np.array([[0.1, 0.3], [0.2, 0.4]])\n",
        "  network['b3'] = np.array([0.1, 0.2])\n",
        "\n",
        "  return network\n",
        "\n",
        "def forward(network, x):\n",
        "  W1, W2, W3 = network['W1'], network['W2'], network['W3']\n",
        "  b1, b2, b3 = network['b1'], network['b2'], network['b3']\n",
        "\n",
        "  a1 = np.dot(x, W1) + b1\n",
        "  z1 = sigmoid(a1)\n",
        "  a2 = np.dot(z1, W2) + b2\n",
        "  z2 = sigmoid(a2)\n",
        "  a3 = np.dot(z2, W3) + b3\n",
        "  y = a3\n",
        "\n",
        "  return y\n",
        "\n",
        "network = init_network()\n",
        "x = np.array([1, 0.5])\n",
        "y = forward(network, x)\n",
        "print(y)"
      ],
      "metadata": {
        "colab": {
          "base_uri": "https://localhost:8080/"
        },
        "id": "QtPxxfV9u2W3",
        "outputId": "5506ab70-d04f-4b7d-f1e5-c0b73f1ba746"
      },
      "execution_count": 77,
      "outputs": [
        {
          "output_type": "stream",
          "name": "stdout",
          "text": [
            "[0.31682708 0.69627909]\n"
          ]
        }
      ]
    },
    {
      "cell_type": "markdown",
      "source": [
        "소프트맥스 함수"
      ],
      "metadata": {
        "id": "A8kfyJdcwbip"
      }
    },
    {
      "cell_type": "code",
      "source": [
        "def softmax(a):\n",
        "  exp_a = np.exp(a)\n",
        "  sum_exp_a = sum(exp_a)\n",
        "  y = exp_a / sum_exp_a\n",
        "\n",
        "  return y\n",
        "\n",
        "x = np.array([2.0, 3.0])\n",
        "softmax(x)"
      ],
      "metadata": {
        "colab": {
          "base_uri": "https://localhost:8080/"
        },
        "id": "VTEmaWaYwckS",
        "outputId": "0a4e0aa1-90c7-4fed-ffca-fe80044d9d81"
      },
      "execution_count": 14,
      "outputs": [
        {
          "output_type": "execute_result",
          "data": {
            "text/plain": [
              "array([0.26894142, 0.73105858])"
            ]
          },
          "metadata": {},
          "execution_count": 14
        }
      ]
    },
    {
      "cell_type": "markdown",
      "source": [
        "MNIST 데이터셋 가져오기"
      ],
      "metadata": {
        "id": "cclcyWMBz2Uv"
      }
    },
    {
      "cell_type": "code",
      "source": [
        "from tensorflow.keras.datasets import mnist\n",
        "from tensorflow.keras.utils import to_categorical"
      ],
      "metadata": {
        "id": "AuAgfIVpxAkn"
      },
      "execution_count": 15,
      "outputs": []
    },
    {
      "cell_type": "code",
      "source": [
        "(x_train, y_train), (x_test, y_test) = mnist.load_data()\n",
        "\n",
        "x_train = x_train.reshape((60000, 28*28))\n",
        "#y_train = to_categorical(y_train)\n",
        "x_test = x_test.reshape((10000, 28*28))\n",
        "#y_test = to_categorical(y_test)\n",
        "\n",
        "print(x_train.shape)\n",
        "print(y_train.shape)"
      ],
      "metadata": {
        "colab": {
          "base_uri": "https://localhost:8080/"
        },
        "id": "yCLPyO_ADHZE",
        "outputId": "daa8a7f0-692b-463b-a6e6-bdffe43a5143"
      },
      "execution_count": 40,
      "outputs": [
        {
          "output_type": "stream",
          "name": "stdout",
          "text": [
            "(60000, 784)\n",
            "(60000,)\n"
          ]
        }
      ]
    },
    {
      "cell_type": "markdown",
      "source": [
        "신경망의 추론 처리"
      ],
      "metadata": {
        "id": "bINjY_c5DlOA"
      }
    },
    {
      "cell_type": "code",
      "source": [
        "import random\n",
        "def random_weight_bias(row, col):\n",
        "  weight = np.zeros((row, col))\n",
        "  bias = [0] * col\n",
        "  for j in range(col):\n",
        "    for i in range(row):\n",
        "      weight[i, j] = random.random()\n",
        "    bias[j] = random.random()\n",
        "  return np.array(weight), np.array(bias)\n",
        "w, b = random_weight_bias(10, 5)"
      ],
      "metadata": {
        "id": "Em8zgYKwK_Y2"
      },
      "execution_count": 42,
      "outputs": []
    },
    {
      "cell_type": "markdown",
      "source": [
        "랜덤으로 가중치를 생성하고 pickle을 통한 가중치 저장"
      ],
      "metadata": {
        "id": "0SM9dh8cHShX"
      }
    },
    {
      "cell_type": "code",
      "source": [
        "import pickle\n",
        "\n",
        "initial_weights = {}\n",
        "W, B = w, b = random_weight_bias(784, 512)\n",
        "initial_weights['W1'] = W\n",
        "initial_weights['b1'] = B\n",
        "W, B = w, b = random_weight_bias(512, 256)\n",
        "initial_weights['W2'] = W\n",
        "initial_weights['b2'] = B\n",
        "W, B = w, b = random_weight_bias(256, 10)\n",
        "initial_weights['W3'] = W\n",
        "initial_weights['b3'] = B\n",
        "\n",
        "# 가중치를 Pickle 파일로 저장\n",
        "with open('sample_weight.pkl', 'wb') as file:\n",
        "    pickle.dump(initial_weights, file)\n",
        "\n",
        "# Pickle 파일에서 가중치 로드\n",
        "with open('sample_weight.pkl', 'rb') as file:\n",
        "    loaded_weights = pickle.load(file)\n",
        "\n",
        "# 로드된 가중치 확인\n",
        "print(\"Loaded Weights:\", loaded_weights)\n"
      ],
      "metadata": {
        "colab": {
          "base_uri": "https://localhost:8080/"
        },
        "id": "cUrQhnR9GgSq",
        "outputId": "62e6b891-c243-4eec-c78f-612d94b60f60"
      },
      "execution_count": 84,
      "outputs": [
        {
          "output_type": "stream",
          "name": "stdout",
          "text": [
            "Loaded Weights: {'W1': array([[0.18017618, 0.79547148, 0.9358035 , ..., 0.91684266, 0.41966482,\n",
            "        0.20278666],\n",
            "       [0.75801261, 0.0863464 , 0.77199973, ..., 0.19330948, 0.79049464,\n",
            "        0.80651959],\n",
            "       [0.80595568, 0.66094861, 0.76004844, ..., 0.66712912, 0.70844675,\n",
            "        0.70260273],\n",
            "       ...,\n",
            "       [0.5680191 , 0.12764144, 0.07310807, ..., 0.06945701, 0.78568945,\n",
            "        0.91162359],\n",
            "       [0.03874468, 0.88733261, 0.3843361 , ..., 0.77509873, 0.27037439,\n",
            "        0.40333874],\n",
            "       [0.69223047, 0.42371312, 0.77722296, ..., 0.52160791, 0.11909233,\n",
            "        0.22361532]]), 'b1': array([3.47470187e-01, 8.63811288e-01, 1.56817194e-01, 6.21742385e-01,\n",
            "       5.63922490e-01, 2.72144280e-01, 7.18560976e-01, 4.53305861e-01,\n",
            "       2.16846523e-01, 8.58166819e-01, 6.36074911e-01, 9.48104010e-01,\n",
            "       2.38491603e-01, 8.94660998e-01, 3.33289204e-01, 7.18966832e-02,\n",
            "       8.06347235e-01, 4.05127248e-01, 8.50486900e-01, 4.08663180e-01,\n",
            "       7.98415391e-01, 7.56209353e-01, 7.96430736e-01, 6.05419796e-01,\n",
            "       3.74295422e-01, 5.55832098e-02, 3.09535567e-01, 2.80582488e-01,\n",
            "       7.42684802e-03, 5.55253611e-01, 4.22208924e-02, 2.91209872e-01,\n",
            "       8.54760723e-01, 5.75377638e-01, 5.16192505e-01, 4.18156973e-01,\n",
            "       2.42679194e-01, 5.51280424e-01, 2.00785480e-01, 8.21635522e-01,\n",
            "       7.34939167e-01, 8.32170363e-01, 9.33409806e-01, 1.29605813e-01,\n",
            "       6.28034826e-01, 5.60994916e-01, 6.13378842e-01, 8.44035099e-01,\n",
            "       3.04709942e-01, 4.81446009e-01, 9.02811397e-01, 1.46591011e-01,\n",
            "       4.07115249e-01, 8.84462111e-01, 7.82175511e-02, 6.14347967e-01,\n",
            "       5.67847213e-01, 9.33511282e-01, 7.93083288e-01, 6.19124678e-01,\n",
            "       3.90019355e-01, 5.00738424e-01, 5.50913726e-01, 5.61706608e-01,\n",
            "       5.91225473e-01, 8.56180170e-01, 3.31605411e-01, 2.53006093e-01,\n",
            "       4.75844509e-01, 6.07598863e-01, 6.95432163e-01, 6.23322492e-01,\n",
            "       2.02196847e-02, 1.41234187e-01, 4.76020103e-01, 4.12514836e-01,\n",
            "       4.03445160e-01, 1.02610835e-01, 7.65801163e-01, 6.19543985e-01,\n",
            "       2.71021274e-01, 6.52653002e-01, 6.07684132e-01, 5.83707511e-01,\n",
            "       8.96670649e-02, 7.96893254e-01, 2.99738432e-01, 8.45921467e-01,\n",
            "       9.87165047e-01, 4.05225055e-01, 5.23469087e-01, 9.65971749e-01,\n",
            "       1.96856637e-01, 8.02886112e-01, 6.66008233e-01, 9.45270587e-01,\n",
            "       2.80466525e-01, 5.45405106e-01, 6.16749465e-01, 1.41832893e-01,\n",
            "       7.90761346e-01, 1.54631644e-01, 5.55408118e-01, 5.22873741e-01,\n",
            "       6.02960372e-01, 1.13933260e-01, 2.33733224e-01, 9.70298968e-01,\n",
            "       4.93792722e-01, 7.28222206e-01, 5.72554047e-01, 9.69304540e-01,\n",
            "       8.32141403e-01, 8.49646612e-01, 7.41372534e-01, 2.51329512e-01,\n",
            "       3.38112091e-01, 1.63509801e-01, 1.87729881e-01, 9.72588657e-01,\n",
            "       1.85572034e-01, 9.79174731e-02, 7.33310321e-01, 4.69002141e-01,\n",
            "       9.55114404e-01, 3.94288708e-01, 5.75346539e-01, 2.85852471e-01,\n",
            "       1.93886917e-01, 3.34648629e-01, 4.25608180e-01, 3.19526744e-01,\n",
            "       2.87868326e-01, 7.02698340e-01, 3.48651737e-02, 1.58889235e-01,\n",
            "       6.91662192e-01, 2.92212286e-01, 9.97786264e-01, 1.89308304e-01,\n",
            "       7.00508597e-01, 8.62998572e-01, 6.28710445e-01, 5.03865413e-01,\n",
            "       2.20454341e-01, 2.47115336e-01, 6.01965712e-01, 9.32086763e-01,\n",
            "       5.94550704e-01, 9.33598394e-01, 1.76865955e-01, 5.55241905e-01,\n",
            "       4.27197193e-01, 3.89831027e-01, 4.91802239e-01, 2.12899026e-01,\n",
            "       9.88718299e-02, 2.69788437e-01, 8.99255980e-02, 6.82431298e-01,\n",
            "       6.26341829e-01, 4.31789881e-02, 6.32817302e-01, 8.93073106e-01,\n",
            "       4.99346372e-01, 6.56817978e-01, 1.49595785e-01, 3.87967876e-01,\n",
            "       4.91439272e-01, 6.90516851e-01, 1.84156716e-01, 1.38923123e-01,\n",
            "       8.83817313e-01, 2.92801784e-01, 8.39189699e-01, 2.39328845e-01,\n",
            "       6.80197180e-01, 1.58336897e-01, 4.64241940e-01, 8.49477575e-01,\n",
            "       2.75527351e-01, 2.10268491e-02, 3.41066317e-01, 4.84133664e-01,\n",
            "       4.09046910e-02, 6.93654875e-01, 1.08437190e-01, 6.65253527e-01,\n",
            "       4.48111825e-01, 4.60948497e-01, 5.30235639e-01, 5.12407908e-01,\n",
            "       8.36569004e-01, 3.69451690e-01, 5.13074964e-01, 1.33963268e-01,\n",
            "       1.22403332e-01, 6.79476101e-01, 5.75220536e-02, 6.67273623e-01,\n",
            "       9.25600954e-01, 3.36015264e-01, 3.74530396e-01, 1.80917863e-02,\n",
            "       5.80142529e-01, 2.71508132e-01, 2.10719284e-01, 6.92707810e-01,\n",
            "       6.07356776e-01, 3.51487578e-01, 4.85974685e-01, 9.41246030e-01,\n",
            "       9.90382938e-01, 2.44584061e-01, 3.60540485e-01, 5.30421938e-01,\n",
            "       5.44000235e-01, 7.25452940e-01, 4.37377573e-01, 6.48609045e-01,\n",
            "       1.33023636e-02, 8.03642586e-01, 1.57442395e-01, 4.96919840e-01,\n",
            "       9.98589447e-01, 8.73490764e-01, 2.50966966e-01, 7.94451432e-01,\n",
            "       8.51702782e-02, 2.30100803e-01, 6.58563547e-01, 4.15417660e-01,\n",
            "       5.38693713e-01, 3.34685235e-02, 4.51441576e-01, 8.34699558e-01,\n",
            "       8.17027412e-01, 8.12495667e-01, 2.21329968e-01, 4.48732462e-01,\n",
            "       7.28700166e-01, 4.23185848e-01, 5.86914157e-01, 5.68670199e-01,\n",
            "       5.44788462e-01, 1.03011669e-01, 6.31343909e-01, 7.22577708e-01,\n",
            "       4.90128285e-01, 9.74235187e-01, 7.22581046e-01, 7.59317990e-01,\n",
            "       7.93487234e-01, 9.21053413e-01, 7.18672924e-01, 4.23630452e-01,\n",
            "       5.86629968e-01, 4.37090445e-01, 3.91239816e-01, 7.24728423e-01,\n",
            "       8.83536462e-01, 2.70422215e-01, 8.53834146e-01, 4.52293153e-01,\n",
            "       6.27535064e-01, 3.36522710e-01, 5.00563489e-02, 4.50710765e-01,\n",
            "       9.17909081e-01, 7.02076289e-01, 2.11465163e-01, 5.08311480e-01,\n",
            "       1.21181129e-01, 4.74795285e-01, 5.58904184e-01, 2.24349029e-01,\n",
            "       6.38591333e-01, 2.32707446e-03, 1.92432865e-01, 4.21999130e-01,\n",
            "       8.73972069e-01, 4.99469065e-01, 9.75665316e-01, 8.14137038e-01,\n",
            "       1.98348751e-01, 5.92653379e-01, 1.08053076e-01, 9.99181700e-01,\n",
            "       9.83113634e-01, 2.95790700e-01, 7.10727642e-01, 5.83329045e-01,\n",
            "       6.74518679e-01, 9.19588286e-01, 4.96688635e-01, 7.54851300e-01,\n",
            "       1.84216855e-02, 8.44526707e-01, 6.00765186e-01, 4.90798215e-01,\n",
            "       7.84358411e-01, 6.89738369e-01, 2.44146683e-01, 4.55937787e-01,\n",
            "       8.72228972e-01, 3.21835690e-01, 1.48704061e-01, 5.16600909e-01,\n",
            "       5.53479338e-01, 5.32033276e-02, 5.81521919e-01, 1.95504226e-02,\n",
            "       8.83062681e-02, 6.85896572e-01, 6.31549241e-01, 8.79761357e-01,\n",
            "       6.88783798e-02, 4.46377487e-01, 2.75446264e-01, 2.54752487e-01,\n",
            "       3.29258283e-01, 9.67942645e-01, 5.01949698e-01, 1.63024316e-01,\n",
            "       5.80034351e-01, 1.52486600e-01, 4.03323033e-01, 1.31209438e-01,\n",
            "       7.77158693e-01, 2.99994471e-01, 6.27740013e-02, 2.13588062e-01,\n",
            "       1.35908373e-01, 2.39321243e-01, 2.59045347e-01, 6.73932716e-01,\n",
            "       5.88354631e-01, 8.64915240e-01, 2.07016244e-01, 2.93510950e-01,\n",
            "       9.62944234e-01, 4.85605822e-01, 3.90073203e-01, 4.29522054e-01,\n",
            "       2.39105322e-01, 4.03409332e-01, 4.71733528e-02, 2.98235620e-01,\n",
            "       6.16288431e-01, 7.02578455e-01, 9.17795089e-01, 2.57432461e-01,\n",
            "       8.28482499e-01, 6.03688054e-01, 5.58056331e-01, 6.45707288e-01,\n",
            "       3.73010568e-01, 5.80200723e-01, 2.46047987e-01, 8.00978276e-01,\n",
            "       3.60130794e-01, 4.16096022e-01, 8.71648302e-01, 6.24202934e-02,\n",
            "       5.53045843e-01, 5.96333901e-01, 5.90633431e-01, 7.95444233e-01,\n",
            "       6.71639552e-01, 7.29089131e-01, 8.24507172e-01, 6.53054210e-01,\n",
            "       3.20920834e-01, 5.94107522e-02, 1.66345300e-01, 4.04942196e-01,\n",
            "       4.39284247e-01, 7.94056135e-01, 3.00275812e-01, 9.54939041e-01,\n",
            "       6.44491184e-01, 2.55055372e-01, 6.60686574e-01, 6.01321809e-01,\n",
            "       2.43750429e-01, 4.67303648e-01, 5.54865071e-01, 8.12446127e-01,\n",
            "       5.59763675e-01, 7.61816871e-01, 3.16039270e-02, 5.60408956e-01,\n",
            "       2.34422903e-01, 3.02808509e-01, 6.19051723e-01, 6.63893625e-01,\n",
            "       1.11087438e-02, 5.27451313e-01, 5.64907804e-01, 1.58846629e-01,\n",
            "       3.62530223e-01, 9.33216572e-01, 5.59537344e-01, 3.04285760e-01,\n",
            "       7.13420220e-01, 4.82906881e-01, 4.97607450e-02, 6.18976832e-01,\n",
            "       2.71839038e-01, 8.47621076e-01, 4.62855515e-02, 1.14986327e-01,\n",
            "       1.10830377e-01, 8.75254573e-01, 2.87028454e-01, 3.68560185e-01,\n",
            "       2.50686429e-01, 5.92724630e-01, 5.61801461e-01, 7.07163587e-01,\n",
            "       9.58338334e-01, 7.53662940e-01, 1.39944411e-01, 6.32621313e-01,\n",
            "       1.90826481e-01, 6.41361828e-01, 4.64261767e-01, 5.47490564e-01,\n",
            "       6.51379518e-01, 7.40268296e-01, 9.28524441e-01, 6.61841252e-01,\n",
            "       8.27855078e-01, 4.15708710e-02, 5.59477631e-01, 7.37418387e-01,\n",
            "       3.88532450e-01, 3.75773117e-01, 3.92491662e-01, 3.09716014e-01,\n",
            "       9.84940207e-01, 5.31798071e-01, 6.48057104e-01, 4.82172004e-01,\n",
            "       5.81496210e-02, 8.05881175e-01, 2.97049413e-01, 8.54965530e-01,\n",
            "       3.11531068e-01, 8.96647327e-01, 3.46149132e-01, 4.61439843e-01,\n",
            "       7.97165565e-01, 8.64840198e-01, 6.68410957e-02, 7.92397823e-01,\n",
            "       3.18626093e-01, 9.94626358e-01, 5.86996152e-01, 7.05616628e-01,\n",
            "       9.28992860e-01, 4.76267205e-01, 1.04154091e-01, 4.55420318e-01,\n",
            "       3.71525028e-03, 4.24111528e-01, 2.01622467e-01, 8.32328847e-01,\n",
            "       7.54409088e-01, 1.85041695e-01, 8.43825246e-01, 9.29244126e-01,\n",
            "       5.38795090e-02, 3.47364668e-01, 4.43286844e-01, 8.33109788e-01,\n",
            "       8.12524545e-01, 6.95560453e-01, 1.98796371e-04, 8.01404470e-01,\n",
            "       2.62046777e-01, 3.89250923e-01, 1.64904521e-01, 2.72511813e-01,\n",
            "       8.15162826e-01, 3.12933785e-01, 1.82803479e-01, 9.64054560e-01,\n",
            "       7.38757410e-01, 1.92848031e-01, 7.36595066e-01, 3.99517371e-01,\n",
            "       8.90360774e-01, 1.17994848e-01, 7.86229342e-01, 6.82547985e-02,\n",
            "       8.30051127e-01, 9.51267742e-01, 7.40951001e-01, 5.50070218e-01,\n",
            "       3.40952796e-01, 6.04864379e-01, 7.53174690e-01, 8.82279545e-01,\n",
            "       1.62209617e-01, 1.57072361e-01, 1.47376925e-01, 9.26206416e-01,\n",
            "       8.53906619e-01, 2.32038481e-01, 3.55359202e-01, 1.44838828e-01]), 'W2': array([[0.80791676, 0.70695068, 0.73520749, ..., 0.10034257, 0.21345064,\n",
            "        0.1571036 ],\n",
            "       [0.8894786 , 0.35844238, 0.41031942, ..., 0.12036227, 0.91709609,\n",
            "        0.61358764],\n",
            "       [0.25218714, 0.79291349, 0.14687231, ..., 0.08962341, 0.67573901,\n",
            "        0.40679073],\n",
            "       ...,\n",
            "       [0.3629361 , 0.6194071 , 0.68917176, ..., 0.5724193 , 0.42720976,\n",
            "        0.58394646],\n",
            "       [0.22432292, 0.61185836, 0.79666015, ..., 0.24636953, 0.51302385,\n",
            "        0.07394955],\n",
            "       [0.57812857, 0.99878633, 0.61246819, ..., 0.93605889, 0.13907528,\n",
            "        0.73646585]]), 'b2': array([7.41379027e-01, 1.27216117e-01, 1.15625284e-01, 6.69597548e-01,\n",
            "       2.68580541e-01, 3.98262567e-01, 8.72850864e-01, 6.96978430e-01,\n",
            "       8.15217615e-01, 3.13072511e-01, 5.98021348e-01, 8.16582944e-01,\n",
            "       8.40809973e-01, 3.65387550e-01, 4.50340014e-01, 3.90642713e-01,\n",
            "       9.50338615e-01, 6.90453048e-02, 3.21003196e-01, 8.54980024e-01,\n",
            "       4.93323605e-01, 8.88413848e-01, 6.41833797e-01, 5.28116553e-01,\n",
            "       2.03963774e-01, 3.63667399e-01, 4.01260870e-02, 8.79420563e-01,\n",
            "       7.31635921e-01, 9.46530305e-01, 7.25582238e-01, 2.85725231e-01,\n",
            "       1.31035478e-01, 9.17525895e-01, 9.04914659e-01, 7.30974161e-01,\n",
            "       8.77639260e-01, 7.39074768e-01, 5.37525508e-01, 1.68326210e-02,\n",
            "       2.83987823e-01, 2.90095939e-01, 1.16320926e-01, 4.28799899e-01,\n",
            "       3.10724912e-01, 1.32094208e-01, 7.11109249e-01, 9.27676016e-01,\n",
            "       4.99541333e-01, 3.68018303e-01, 3.68898950e-01, 9.03951898e-01,\n",
            "       4.80793401e-04, 7.69444590e-02, 2.10250303e-01, 4.06674829e-01,\n",
            "       5.33791208e-03, 9.17455560e-01, 4.19730424e-01, 8.98328219e-01,\n",
            "       8.73875800e-02, 9.58165725e-01, 1.99565766e-01, 7.45159655e-01,\n",
            "       3.56253993e-01, 7.87242552e-01, 3.46388986e-01, 8.66821117e-01,\n",
            "       1.84569085e-01, 5.33423228e-01, 4.28780151e-01, 5.31622584e-01,\n",
            "       7.99228793e-02, 7.17583894e-02, 2.60226753e-01, 8.32520675e-01,\n",
            "       6.40122813e-01, 1.15683008e-01, 6.62316590e-01, 1.20382381e-01,\n",
            "       7.86001172e-01, 9.28176385e-01, 8.66979291e-01, 1.53095727e-01,\n",
            "       1.69619858e-01, 4.81511110e-01, 9.74148781e-01, 6.03507148e-02,\n",
            "       1.92476501e-01, 2.74876263e-01, 1.00227513e-01, 6.20224416e-01,\n",
            "       9.23699433e-01, 4.07998231e-02, 9.52603421e-01, 5.35815308e-01,\n",
            "       5.40272537e-01, 8.40377356e-02, 6.45207778e-01, 1.66381480e-01,\n",
            "       3.31985645e-01, 8.26305555e-01, 4.34755280e-01, 8.77311559e-01,\n",
            "       5.54460738e-01, 2.99450747e-01, 1.79525930e-01, 5.32782394e-01,\n",
            "       4.75503044e-01, 2.92459432e-01, 7.00899609e-01, 2.67005136e-01,\n",
            "       3.74736544e-01, 3.80728755e-01, 1.03122189e-01, 2.21342481e-01,\n",
            "       3.56496673e-01, 7.10097444e-01, 1.51320767e-01, 9.71748232e-01,\n",
            "       8.46927868e-01, 2.13329256e-01, 3.53004060e-01, 5.76285416e-02,\n",
            "       9.75176027e-01, 7.66901001e-01, 4.70991983e-01, 3.68054326e-01,\n",
            "       7.69657705e-01, 1.96219757e-01, 1.83229559e-01, 1.51231643e-01,\n",
            "       4.54935376e-01, 1.02188260e-01, 8.07488587e-01, 7.42812711e-01,\n",
            "       8.84192226e-01, 5.36473112e-01, 1.80218552e-01, 8.30631361e-01,\n",
            "       5.26985165e-01, 9.23507488e-01, 7.30228270e-01, 4.88237702e-01,\n",
            "       4.29310896e-01, 7.95261842e-02, 1.33198986e-01, 3.86686840e-01,\n",
            "       8.77195526e-01, 5.92485644e-01, 5.55321598e-01, 4.90245227e-01,\n",
            "       7.01005207e-01, 9.64485530e-01, 6.04224824e-01, 7.78107609e-01,\n",
            "       1.94904019e-01, 1.96703267e-01, 8.54210254e-02, 6.36663189e-01,\n",
            "       4.62287817e-01, 2.75124956e-01, 9.99554569e-01, 3.74348787e-01,\n",
            "       6.62698948e-01, 5.04781837e-01, 4.61217343e-01, 8.93319122e-01,\n",
            "       8.32722816e-01, 1.61974677e-01, 1.76870184e-01, 1.73384930e-01,\n",
            "       6.41084793e-01, 2.94088936e-01, 7.64197156e-01, 5.44578558e-01,\n",
            "       6.01108188e-01, 8.32260433e-01, 2.14468463e-01, 5.81609213e-01,\n",
            "       5.23348327e-01, 4.24961068e-01, 5.25492318e-01, 9.36764383e-01,\n",
            "       2.38481045e-01, 1.56242333e-01, 8.52642121e-01, 8.54322792e-01,\n",
            "       2.80032780e-01, 5.77415298e-01, 2.30220910e-01, 5.45955322e-01,\n",
            "       4.00841393e-01, 6.45893660e-01, 6.30931684e-01, 4.38943817e-01,\n",
            "       3.75159543e-01, 3.11866637e-01, 9.73043540e-01, 5.92082115e-01,\n",
            "       9.20229791e-01, 2.97720751e-01, 4.14283792e-01, 7.98058243e-01,\n",
            "       7.84183939e-01, 3.00713612e-01, 5.19079015e-01, 1.24754067e-01,\n",
            "       6.26068411e-01, 5.78193136e-01, 9.85118118e-04, 8.73301323e-01,\n",
            "       4.59307167e-01, 5.88985325e-01, 8.73875400e-01, 3.93109342e-01,\n",
            "       2.65346956e-01, 2.27869351e-01, 4.22034659e-01, 5.53930568e-01,\n",
            "       3.53204989e-01, 8.62037282e-01, 6.16975776e-01, 8.90978013e-01,\n",
            "       3.33836285e-01, 2.29797892e-01, 6.40233696e-01, 8.67074528e-02,\n",
            "       6.62695007e-01, 9.11370376e-01, 2.47672680e-01, 4.73615842e-01,\n",
            "       6.53345460e-01, 7.66219122e-01, 2.39694872e-01, 7.01273361e-01,\n",
            "       7.41090782e-01, 5.83455095e-01, 2.27318211e-01, 9.55777463e-01,\n",
            "       1.93049651e-01, 5.17690337e-01, 7.04878027e-01, 4.30987857e-01,\n",
            "       3.10588782e-01, 8.67313571e-01, 3.84353084e-01, 7.31302683e-01,\n",
            "       1.13670800e-01, 1.99549153e-01, 6.71509125e-02, 1.10722469e-01,\n",
            "       5.18659028e-01, 9.43765143e-01, 6.44528383e-01, 4.00067080e-01]), 'W3': array([[0.71041112, 0.20529127, 0.90731729, ..., 0.86137336, 0.82795524,\n",
            "        0.5185951 ],\n",
            "       [0.87652093, 0.45073744, 0.93878757, ..., 0.25916967, 0.42313973,\n",
            "        0.19720924],\n",
            "       [0.68219407, 0.29464762, 0.86591679, ..., 0.46431695, 0.26889165,\n",
            "        0.49984971],\n",
            "       ...,\n",
            "       [0.9258404 , 0.80076574, 0.60769859, ..., 0.15684489, 0.91931727,\n",
            "        0.62439282],\n",
            "       [0.35881685, 0.96903811, 0.65873991, ..., 0.90071609, 0.56836158,\n",
            "        0.81276105],\n",
            "       [0.24027457, 0.69301191, 0.8662579 , ..., 0.65586896, 0.09420568,\n",
            "        0.7875181 ]]), 'b3': array([0.28914531, 0.41826753, 0.33421688, 0.91858464, 0.90464212,\n",
            "       0.75000434, 0.96549489, 0.2714076 , 0.09971983, 0.09398724])}\n"
          ]
        }
      ]
    },
    {
      "cell_type": "code",
      "source": [
        "def get_data():\n",
        "  (x_train, y_train), (x_test, y_test) = mnist.load_data()\n",
        "  return x_test.reshape((x_test.shape[0], 28*28)), y_test\n",
        "\n",
        "\n",
        "def init_network():\n",
        "  with open('sample_weight.pkl', 'rb') as file:\n",
        "    network = pickle.load(file)\n",
        "    return network\n",
        "\n",
        "def predict(network, x):\n",
        "  W1, W2, W3 = network['W1'], network['W2'], network['W3']\n",
        "  b1, b2, b3 = network['b1'], network['b2'], network['b3']\n",
        "\n",
        "  a1 = np.dot(x, W1) + b1\n",
        "  z1 = sigmoid(a1)\n",
        "  a2 = np.dot(z1, W2) + b2\n",
        "  z2 = sigmoid(a2)\n",
        "  a3 = np.dot(z2, W3) + b3\n",
        "  y = softmax(a3)\n",
        "\n",
        "  return y"
      ],
      "metadata": {
        "id": "knjKAgeoEer-"
      },
      "execution_count": 85,
      "outputs": []
    },
    {
      "cell_type": "markdown",
      "source": [
        "임의로 설정한 가중치이므로 정확도는 약 10%(label이 10개이므로)"
      ],
      "metadata": {
        "id": "05xd45BvPdNe"
      }
    },
    {
      "cell_type": "code",
      "source": [
        "x, t = get_data()\n",
        "network = init_network()\n",
        "\n",
        "accuracy_cnt = 0\n",
        "\n",
        "for i in range(len(x)):\n",
        "  y = predict(network, x[i])\n",
        "  p = np.argmax(y) # 확률이 가장 높은 원소의 인덱스를 얻는다.\n",
        "\n",
        "  if p == t[i]:\n",
        "    accuracy_cnt += 1\n",
        "\n",
        "print(f'Accuracy: {float(accuracy_cnt) / len(x)}')"
      ],
      "metadata": {
        "colab": {
          "base_uri": "https://localhost:8080/"
        },
        "id": "dAtMjuobFaGs",
        "outputId": "a24d724e-17d3-4bab-8061-2316ed2caca4"
      },
      "execution_count": 91,
      "outputs": [
        {
          "output_type": "stream",
          "name": "stdout",
          "text": [
            "Accuracy: 0.098\n"
          ]
        }
      ]
    }
  ]
}